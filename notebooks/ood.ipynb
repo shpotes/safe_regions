{
 "cells": [
  {
   "cell_type": "code",
   "execution_count": 1,
   "metadata": {},
   "outputs": [
    {
     "name": "stdout",
     "output_type": "stream",
     "text": [
      "/home/shpotes/Projects/safe_regions\n"
     ]
    }
   ],
   "source": [
    "%cd .."
   ]
  },
  {
   "cell_type": "code",
   "execution_count": 2,
   "metadata": {},
   "outputs": [],
   "source": [
    "from typing import Tuple, Dict\n",
    "\n",
    "import numpy as np\n",
    "import torch\n",
    "import torch.nn as nn\n",
    "import torch.utils.data as data\n",
    "from torchvision import transforms, datasets\n",
    "from tqdm import tqdm\n",
    "from matplotlib import pyplot as plt\n",
    "from pl_bolts.datamodules import CIFAR10DataModule\n",
    "from pl_bolts.transforms.dataset_normalizations import cifar10_normalization\n",
    "\n",
    "from safe_regions.pl_module import ResNet\n",
    "from safe_regions.layers import ReLU\n",
    "from safe_regions.region import RollingMeanRegion, Region"
   ]
  },
  {
   "cell_type": "code",
   "execution_count": 3,
   "metadata": {},
   "outputs": [],
   "source": [
    "model = ResNet.load_from_checkpoint('weights/colab.ckpt')"
   ]
  },
  {
   "cell_type": "code",
   "execution_count": 4,
   "metadata": {},
   "outputs": [],
   "source": [
    "dm = CIFAR10DataModule(\n",
    "    '~/.pytorch/cifar10/',\n",
    "    num_workers=8,\n",
    "    batch_size=512,\n",
    ")\n",
    "\n",
    "dm.train_transforms = transforms.Compose([\n",
    "    transforms.RandomCrop(32, padding=4),\n",
    "    transforms.RandomHorizontalFlip(),\n",
    "    transforms.ToTensor(),\n",
    "    cifar10_normalization(),\n",
    "])\n",
    "\n",
    "dm.val_transforms = transforms.Compose([\n",
    "    transforms.ToTensor(),\n",
    "    cifar10_normalization(),\n",
    "])\n",
    "dm.setup()"
   ]
  },
  {
   "cell_type": "code",
   "execution_count": 5,
   "metadata": {},
   "outputs": [
    {
     "name": "stdout",
     "output_type": "stream",
     "text": [
      "Using downloaded and verified file: /home/shpotes/.pytorch/svhn/test_32x32.mat\n"
     ]
    }
   ],
   "source": [
    "ood_dataset = datasets.SVHN(\n",
    "    '~/.pytorch/svhn/',\n",
    "    split='test',\n",
    "    download=True,\n",
    "    transform=transforms.Compose([\n",
    "        transforms.RandomCrop(32, padding=4),\n",
    "        transforms.RandomHorizontalFlip(),\n",
    "        transforms.ToTensor(),\n",
    "        cifar10_normalization(),\n",
    "    ])\n",
    ")\n",
    "\n",
    "ood_dloader = data.DataLoader(\n",
    "    ood_dataset, \n",
    "    batch_size=512,\n",
    "    num_workers=8,\n",
    ")"
   ]
  },
  {
   "cell_type": "code",
   "execution_count": 14,
   "metadata": {},
   "outputs": [],
   "source": [
    "class RegionMembership:\n",
    "    def __init__(self, model: nn.Module):\n",
    "        self.model = model.eval()\n",
    "        self.state = {}\n",
    "        self.hooks = []\n",
    "        self._score = 0\n",
    "        \n",
    "    def _membership_tracker(\n",
    "        self, \n",
    "        module: nn.Module, \n",
    "        parent_name: Tuple[str] = ('',)\n",
    "    ):\n",
    "        for idx, (layer_name, layer) in enumerate(module.named_children()):\n",
    "            if isinstance(layer, ReLU):\n",
    "                layer_id = (idx, *parent_name)\n",
    "                h = layer.register_forward_hook(\n",
    "                    self.evaluate_membership(layer_id)\n",
    "                )\n",
    "                self.hooks.append(h)\n",
    "            elif list(layer.children()):\n",
    "                self._membership_tracker(layer, (*parent_name, layer_name))\n",
    "    \n",
    "    @property\n",
    "    def reduction_ops(self):\n",
    "        return torch.mean\n",
    "    \n",
    "    def evaluate_membership(self, layer_id: Tuple[str]):\n",
    "        state = self.state\n",
    "        reduced = self.reduction_ops\n",
    "        \n",
    "        if not layer_id in state:\n",
    "            state[layer_id] = []\n",
    "\n",
    "        def _evaluate_membership(layer, input_tensor, _):\n",
    "            (input_tensor,) = input_tensor\n",
    "            membership = layer.region.evaluate_membership(\n",
    "                input_tensor.detach().cpu()\n",
    "            )\n",
    "            state[layer_id].append(reduced(membership.float()))\n",
    "            \n",
    "        return _evaluate_membership\n",
    "    \n",
    "    def reset_state(self):\n",
    "        for h in self.hooks:\n",
    "            h.remove()\n",
    "            \n",
    "        self.state = {}\n",
    "        self.hooks = []\n",
    "        self._membership_tracker(self.model)\n",
    "\n",
    "    def evaluate(self, dloader: data.DataLoader) -> Dict[Tuple[str], torch.Tensor]:\n",
    "        self.reset_state()\n",
    "        score = []\n",
    "        \n",
    "        for input_tensor, target in tqdm(dloader):\n",
    "            logits = self.model(input_tensor)\n",
    "            prediction = logits.max(axis=1).indices\n",
    "            \n",
    "            score.append((target == prediction).float().mean())\n",
    "\n",
    "        self._score = sum(score) / len(score)\n",
    "        self.state = {k: self.reduction_ops(torch.tensor(v)).item()\n",
    "                      for k, v in self.state.items()}\n",
    "        return self.state\n",
    "\n",
    "    def plot(self, ax, label, offset=0, width=0.25):\n",
    "        post, vals = zip(*enumerate(self.state.values()))\n",
    "        post = np.array(post) + offset\n",
    "        \n",
    "        return ax.bar(post, vals, width=width, label=f'{label}: {self._score:.2f}')"
   ]
  },
  {
   "cell_type": "code",
   "execution_count": 15,
   "metadata": {},
   "outputs": [],
   "source": [
    "class RandomData(data.Dataset):\n",
    "    def __init__(self, length=1000, shape=(3, 32, 32)):\n",
    "        self.shape = shape\n",
    "        self.length = length\n",
    "\n",
    "    def __getitem__(self, _):\n",
    "        return torch.randn(*self.shape), 0\n",
    "\n",
    "    def __len__(self):\n",
    "        return self.length"
   ]
  },
  {
   "cell_type": "code",
   "execution_count": 16,
   "metadata": {},
   "outputs": [],
   "source": [
    "_model = nn.Sequential(\n",
    "    model.model,\n",
    "    model.proj\n",
    ")"
   ]
  },
  {
   "cell_type": "code",
   "execution_count": 22,
   "metadata": {},
   "outputs": [
    {
     "name": "stderr",
     "output_type": "stream",
     "text": [
      "100%|██████████| 79/79 [01:07<00:00,  1.18it/s]\n"
     ]
    },
    {
     "data": {
      "text/plain": [
       "{(2, '', '0'): 0.9459607005119324,\n",
       " (2, '', '0', 'layer1', '0'): 0.9170060753822327,\n",
       " (2, '', '0', 'layer1', '1'): 0.9313273429870605,\n",
       " (2, '', '0', 'layer2', '0'): 0.9541521668434143,\n",
       " (2, '', '0', 'layer2', '1'): 0.9431619644165039,\n",
       " (2, '', '0', 'layer3', '0'): 0.9567215442657471,\n",
       " (2, '', '0', 'layer3', '1'): 0.847195029258728,\n",
       " (2, '', '0', 'layer4', '0'): 0.969696044921875,\n",
       " (2, '', '0', 'layer4', '1'): 0.9636868834495544,\n",
       " (0, '', '1'): 0.9397218227386475}"
      ]
     },
     "execution_count": 22,
     "metadata": {},
     "output_type": "execute_result"
    }
   ],
   "source": [
    "tracker = RegionMembership(_model)\n",
    "tracker.evaluate(dm.val_dataloader())"
   ]
  },
  {
   "cell_type": "code",
   "execution_count": 18,
   "metadata": {},
   "outputs": [
    {
     "name": "stderr",
     "output_type": "stream",
     "text": [
      "100%|██████████| 20/20 [00:15<00:00,  1.25it/s]\n"
     ]
    },
    {
     "data": {
      "text/plain": [
       "{(2, '', 'model'): 0.892735481262207,\n",
       " (2, '', 'model', 'layer1', '0'): 0.7910555601119995,\n",
       " (2, '', 'model', 'layer1', '1'): 0.8333330154418945,\n",
       " (2, '', 'model', 'layer2', '0'): 0.8576191067695618,\n",
       " (2, '', 'model', 'layer2', '1'): 0.8701720237731934,\n",
       " (2, '', 'model', 'layer3', '0'): 0.9200439453125,\n",
       " (2, '', 'model', 'layer3', '1'): 0.8183256983757019,\n",
       " (2, '', 'model', 'layer4', '0'): 0.9602935910224915,\n",
       " (2, '', 'model', 'layer4', '1'): 0.9680959582328796,\n",
       " (0, '', 'proj'): 0.9737094044685364}"
      ]
     },
     "execution_count": 18,
     "metadata": {},
     "output_type": "execute_result"
    }
   ],
   "source": [
    "ood_loader = data.DataLoader(\n",
    "    RandomData(10_240), batch_size=512, num_workers=8,\n",
    ")\n",
    "\n",
    "ood_tracker = RegionMembership(model)\n",
    "ood_tracker.evaluate(ood_loader)"
   ]
  },
  {
   "cell_type": "code",
   "execution_count": 28,
   "metadata": {},
   "outputs": [
    {
     "data": {
      "text/plain": [
       "<matplotlib.legend.Legend at 0x7f572e60e340>"
      ]
     },
     "execution_count": 28,
     "metadata": {},
     "output_type": "execute_result"
    },
    {
     "data": {
      "image/png": "[encoded data removed]",
      "text/plain": [
       "<Figure size 840x560 with 1 Axes>"
      ]
     },
     "metadata": {
      "needs_background": "light"
     },
     "output_type": "display_data"
    }
   ],
   "source": [
    "fig = plt.figure(dpi=140)\n",
    "ax = fig.add_axes([0,0,1,1])\n",
    "\n",
    "tracker.plot(ax, 'in-distribution')\n",
    "ood_tracker.plot(ax, 'out-of-distribution', offset=0.25)\n",
    "\n",
    "fig.legend(bbox_to_anchor=(1.38, 0.5))"
   ]
  },
  {
   "cell_type": "code",
   "execution_count": null,
   "metadata": {},
   "outputs": [],
   "source": []
  }
 ],
 "metadata": {
  "kernelspec": {
   "display_name": "Python 3",
   "language": "python",
   "name": "python3"
  },
  "language_info": {
   "codemirror_mode": {
    "name": "ipython",
    "version": 3
   },
   "file_extension": ".py",
   "mimetype": "text/x-python",
   "name": "python",
   "nbconvert_exporter": "python",
   "pygments_lexer": "ipython3",
   "version": "3.8.5"
  }
 },
 "nbformat": 4,
 "nbformat_minor": 5
}
